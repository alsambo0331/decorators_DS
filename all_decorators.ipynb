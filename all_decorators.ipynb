{
  "nbformat": 4,
  "nbformat_minor": 0,
  "metadata": {
    "colab": {
      "provenance": []
    },
    "kernelspec": {
      "name": "python3",
      "display_name": "Python 3"
    },
    "language_info": {
      "name": "python"
    }
  },
  "cells": [
    {
      "cell_type": "markdown",
      "source": [
        "# Домашнее задание: декораторы"
      ],
      "metadata": {
        "id": "QY4qPJPpgyIS"
      }
    },
    {
      "cell_type": "markdown",
      "source": [
        "## Импорт библиотек, установка констант"
      ],
      "metadata": {
        "id": "Chacc6YchldZ"
      }
    },
    {
      "cell_type": "code",
      "source": [
        "import requests\n",
        "import time\n",
        "import re\n",
        "\n",
        "from random import randint"
      ],
      "metadata": {
        "id": "w8iKrWvwhrFd"
      },
      "execution_count": 1,
      "outputs": []
    },
    {
      "cell_type": "code",
      "source": [
        "BOOK_PATH = 'https://www.gutenberg.org/files/2638/2638-0.txt'"
      ],
      "metadata": {
        "id": "-LRkS0fSi8Np"
      },
      "execution_count": 2,
      "outputs": []
    },
    {
      "cell_type": "markdown",
      "source": [
        "## Задание 1"
      ],
      "metadata": {
        "id": "kARfL8ifg4MH"
      }
    },
    {
      "cell_type": "code",
      "execution_count": 57,
      "metadata": {
        "id": "hNHNWPhngrUl"
      },
      "outputs": [],
      "source": [
        "def benchmark(func):\n",
        "    \"\"\"\n",
        "    Декоратор, выводящий время, которое заняло выполнение декорируемой функции\n",
        "    \"\"\"\n",
        "\n",
        "    def wrapper(*args, **kwargs):\n",
        "      start_time = time.time()\n",
        "      res = func(*args, **kwargs)\n",
        "      end_time = time.time()\n",
        "      exec_time = end_time - start_time\n",
        "      print(f'Время выполнения функции {func.__name__}: {exec_time}')\n",
        "      return res\n",
        "\n",
        "    return wrapper"
      ]
    },
    {
      "cell_type": "markdown",
      "source": [
        "## Задание 2"
      ],
      "metadata": {
        "id": "tGlbUKjihL5n"
      }
    },
    {
      "cell_type": "code",
      "source": [
        "def logging(func):\n",
        "    \"\"\"\n",
        "    Декоратор, который выводит параметры с которыми была вызвана функция\n",
        "    \"\"\"\n",
        "\n",
        "    def wrapper(*args, **kwargs):\n",
        "        print(f'Функция вызвана с параметрами:')\n",
        "        print(f'''({args}), {kwargs}''')\n",
        "        return func(*args, **kwargs)\n",
        "    return wrapper"
      ],
      "metadata": {
        "id": "wugOZDLqhNe-"
      },
      "execution_count": 74,
      "outputs": []
    },
    {
      "cell_type": "markdown",
      "source": [
        "## Задание 3"
      ],
      "metadata": {
        "id": "Sq1tv5fshTfv"
      }
    },
    {
      "cell_type": "code",
      "source": [
        "from functools import wraps\n",
        "def counter(func):\n",
        "    \"\"\"\n",
        "    Декоратор, считающий и выводящий количество вызовов декорируемой функции\n",
        "    \"\"\"\n",
        "    @wraps(func)\n",
        "    def wrapper(*args, **kwargs):\n",
        "        wrapper.calls += 1\n",
        "        print(f\"Функция {func.__name__} вызвана {wrapper.calls} раз(а)\")\n",
        "        return func(*args, **kwargs)\n",
        "\n",
        "    wrapper.calls = 0\n",
        "    return wrapper"
      ],
      "metadata": {
        "id": "9nyvuxXkhVeb"
      },
      "execution_count": 58,
      "outputs": []
    },
    {
      "cell_type": "markdown",
      "source": [
        "## Задание 4"
      ],
      "metadata": {
        "id": "uHn8Adfshz5q"
      }
    },
    {
      "cell_type": "code",
      "source": [
        "def memo(func):\n",
        "  \"\"\"\n",
        "  Декоратор, запоминающий результаты исполнения функции func, чьи аргументы args должны быть хешируемыми\n",
        "  \"\"\"\n",
        "  cache = {}\n",
        "\n",
        "  def fmemo(*args):\n",
        "    cache[args] = func(*args)\n",
        "    return cache[args]\n",
        "  fmemo.cache = cache\n",
        "  return fmemo"
      ],
      "metadata": {
        "id": "R7uu6WtGifNX"
      },
      "execution_count": 16,
      "outputs": []
    },
    {
      "cell_type": "code",
      "source": [
        "def memo(func):\n",
        "    \"\"\"\n",
        "    Декоратор, запоминающий результаты исполнения функции func, чьи аргументы args должны быть хешируемыми\n",
        "    \"\"\"\n",
        "    cache = {}\n",
        "\n",
        "    def wrapper(*args, **kwargs):\n",
        "        # Создаем ключ на основе хэша аргументов\n",
        "        key = (hash(args), hash(tuple(kwargs.items())))\n",
        "\n",
        "        if key in cache:\n",
        "            print(f\"Результат для {args} взят из кэша\")\n",
        "            return cache[key]\n",
        "\n",
        "        result = func(*args, **kwargs)\n",
        "        cache[key] = result\n",
        "        print(f\"Результат для {args} вычислен и сохранен в кэше\")\n",
        "        return result\n",
        "\n",
        "    return wrapper\n"
      ],
      "metadata": {
        "id": "Z9VmjX0gxaiC"
      },
      "execution_count": 67,
      "outputs": []
    },
    {
      "cell_type": "markdown",
      "source": [
        "## Тестирование"
      ],
      "metadata": {
        "id": "Zn5UQCa_izxo"
      }
    },
    {
      "cell_type": "code",
      "source": [
        "@counter\n",
        "@logging\n",
        "@benchmark\n",
        "def word_count(word, url=BOOK_PATH):\n",
        "    \"\"\"\n",
        "    Функция для посчета указанного слова на html-странице\n",
        "    \"\"\"\n",
        "\n",
        "    # отправляем запрос в библиотеку Gutenberg и забираем текст\n",
        "    raw = requests.get(url).text\n",
        "\n",
        "    # заменяем в тексте все небуквенные символы на пробелы\n",
        "    processed_book = re.sub('[\\W]+' , ' ', raw).lower()\n",
        "\n",
        "    # считаем\n",
        "    cnt = len(re.findall(word.lower(), processed_book))\n",
        "\n",
        "    return f\"Cлово {word} встречается {cnt} раз\"\n",
        "\n",
        "print(word_count('whole'))"
      ],
      "metadata": {
        "id": "CHCJ64I8i2QB",
        "colab": {
          "base_uri": "https://localhost:8080/"
        },
        "outputId": "aa252fe6-87d8-4e6c-d958-3e96fdaeeb59"
      },
      "execution_count": 75,
      "outputs": [
        {
          "output_type": "stream",
          "name": "stdout",
          "text": [
            "Функция wrapper вызвана 1 раз(а)\n",
            "Функция вызвана с параметрами:\n",
            "(('whole',)), {}\n",
            "Время выполнения функции word_count: 1.2086687088012695\n",
            "Cлово whole встречается 176 раз\n"
          ]
        }
      ]
    },
    {
      "cell_type": "code",
      "source": [
        "@benchmark\n",
        "def fib(n):\n",
        "    if n < 2:\n",
        "        return n\n",
        "    return fib(n-2) + fib(n-1)"
      ],
      "metadata": {
        "id": "ZE4Rfn-hh3k3"
      },
      "execution_count": 68,
      "outputs": []
    },
    {
      "cell_type": "code",
      "source": [
        "# измеряем время выполнения\n",
        "\n",
        "print(fib(6))"
      ],
      "metadata": {
        "id": "Io94NyjiiXG4",
        "colab": {
          "base_uri": "https://localhost:8080/"
        },
        "outputId": "3b0c2d17-9a45-4c2a-db88-03d7e61aac71"
      },
      "execution_count": 69,
      "outputs": [
        {
          "output_type": "stream",
          "name": "stdout",
          "text": [
            "Время выполнения функции fib: 7.152557373046875e-07\n",
            "Время выполнения функции fib: 4.76837158203125e-07\n",
            "Время выполнения функции fib: 0.00010633468627929688\n",
            "Время выполнения функции fib: 2.384185791015625e-07\n",
            "Время выполнения функции fib: 4.76837158203125e-07\n",
            "Время выполнения функции fib: 2.384185791015625e-07\n",
            "Время выполнения функции fib: 4.601478576660156e-05\n",
            "Время выполнения функции fib: 9.131431579589844e-05\n",
            "Время выполнения функции fib: 0.0002396106719970703\n",
            "Время выполнения функции fib: 2.384185791015625e-07\n",
            "Время выполнения функции fib: 2.384185791015625e-07\n",
            "Время выполнения функции fib: 4.76837158203125e-07\n",
            "Время выполнения функции fib: 4.553794860839844e-05\n",
            "Время выполнения функции fib: 8.96453857421875e-05\n",
            "Время выполнения функции fib: 2.384185791015625e-07\n",
            "Время выполнения функции fib: 2.384185791015625e-07\n",
            "Время выполнения функции fib: 4.482269287109375e-05\n",
            "Время выполнения функции fib: 2.384185791015625e-07\n",
            "Время выполнения функции fib: 2.384185791015625e-07\n",
            "Время выполнения функции fib: 7.152557373046875e-07\n",
            "Время выполнения функции fib: 4.506111145019531e-05\n",
            "Время выполнения функции fib: 8.893013000488281e-05\n",
            "Время выполнения функции fib: 0.008048057556152344\n",
            "Время выполнения функции fib: 0.008203268051147461\n",
            "Время выполнения функции fib: 0.008486270904541016\n",
            "8\n"
          ]
        }
      ]
    },
    {
      "cell_type": "code",
      "source": [
        "@benchmark\n",
        "@memo\n",
        "def fib(n):\n",
        "    if n < 2:\n",
        "        return n\n",
        "    return fib(n-2) + fib(n-1)"
      ],
      "metadata": {
        "id": "W9B3e-t9iTUj"
      },
      "execution_count": 70,
      "outputs": []
    },
    {
      "cell_type": "code",
      "source": [
        "# измеряем время выполнения\n",
        "print(fib(7))"
      ],
      "metadata": {
        "id": "Sk6_4KQaidkh",
        "colab": {
          "base_uri": "https://localhost:8080/"
        },
        "outputId": "42561168-fee4-4b32-d241-331d4403c8fc"
      },
      "execution_count": 72,
      "outputs": [
        {
          "output_type": "stream",
          "name": "stdout",
          "text": [
            "Результат для (5,) взят из кэша\n",
            "Время выполнения функции wrapper: 0.0029082298278808594\n",
            "Результат для (6,) взят из кэша\n",
            "Время выполнения функции wrapper: 2.3603439331054688e-05\n",
            "Результат для (7,) вычислен и сохранен в кэше\n",
            "Время выполнения функции wrapper: 0.0030069351196289062\n",
            "13\n"
          ]
        }
      ]
    },
    {
      "cell_type": "code",
      "source": [],
      "metadata": {
        "id": "g4uTrRttm8D7"
      },
      "execution_count": null,
      "outputs": []
    }
  ]
}